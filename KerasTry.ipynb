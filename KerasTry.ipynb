{
 "cells": [
  {
   "cell_type": "code",
   "execution_count": 1,
   "metadata": {},
   "outputs": [
    {
     "name": "stderr",
     "output_type": "stream",
     "text": [
      "Using TensorFlow backend.\n"
     ]
    }
   ],
   "source": [
    "from kaggle_data import load_data, preprocess_data, preprocess_labels \n",
    "from keras.models import Sequential\n",
    "from keras.layers import Dense, Activation\n",
    "from keras.utils import np_utils\n",
    "\n",
    "X_train, labels = load_data('data/kaggle_ottogroup/train.csv', train = True)\n",
    "X_train, scaler = preprocess_data(X_train)\n",
    "Y_train, encoder = preprocess_labels(labels)\n",
    "\n",
    "X_test, ids = load_data('data/kaggle_ottogroup/test.csv', train=False)\n",
    "\n",
    "X_test, _ = preprocess_data(X_test, scaler)"
   ]
  },
  {
   "cell_type": "code",
   "execution_count": 2,
   "metadata": {
    "scrolled": true
   },
   "outputs": [
    {
     "name": "stdout",
     "output_type": "stream",
     "text": [
      "(93, 'dims')\n",
      "Building model...\n",
      "(9, 'classes')\n",
      "Epoch 1/10\n",
      "61878/61878 [==============================] - 3s - loss: 1.0650     \n",
      "Epoch 2/10\n",
      "61878/61878 [==============================] - 3s - loss: 0.7761     \n",
      "Epoch 3/10\n",
      "61878/61878 [==============================] - 3s - loss: 0.7309     \n",
      "Epoch 4/10\n",
      "61878/61878 [==============================] - 3s - loss: 0.7088     \n",
      "Epoch 5/10\n",
      "61878/61878 [==============================] - 3s - loss: 0.6952     \n",
      "Epoch 6/10\n",
      "61878/61878 [==============================] - 3s - loss: 0.6859     \n",
      "Epoch 7/10\n",
      "61878/61878 [==============================] - 3s - loss: 0.6788     \n",
      "Epoch 8/10\n",
      "61878/61878 [==============================] - 3s - loss: 0.6737     \n",
      "Epoch 9/10\n",
      "61878/61878 [==============================] - 3s - loss: 0.6695     \n",
      "Epoch 10/10\n",
      "61878/61878 [==============================] - 3s - loss: 0.6659     \n"
     ]
    },
    {
     "data": {
      "text/plain": [
       "<keras.callbacks.History at 0x11c84f490>"
      ]
     },
     "execution_count": 2,
     "metadata": {},
     "output_type": "execute_result"
    }
   ],
   "source": [
    "dims = X_train.shape[1]\n",
    "print(dims, 'dims')\n",
    "print('Building model...')\n",
    "\n",
    "nb_classes = Y_train.shape[1]\n",
    "print(nb_classes, 'classes')\n",
    "\n",
    "model = Sequential()  #linear stack of layers\n",
    "#adding instance layers to the sequential model\n",
    "\n",
    "#first layer needs to receive inf about input shape\n",
    "#dense = regular denseley connected layer\n",
    "#impelements operation (output = activation(dot(input, kernel) + bias))\n",
    "#kernel = weight matrix\n",
    "\n",
    "#units of dense --> dimensionality of output space\n",
    "#dense = fully connected layer of trainable weigts\n",
    "model.add(Dense(nb_classes, input_shape=(dims,)))\n",
    "#model will take as input arrays of shap (*, dims)\n",
    "#and output arrays of shape (*, nb_classes)\n",
    "\n",
    "model.add(Activation('softmax')) #stating what activation this first layer uses\n",
    "\n",
    "#sgd = stochastic gradient descent\n",
    "model.compile(optimizer='sgd', loss='categorical_crossentropy')\n",
    "model.fit(X_train, Y_train)"
   ]
  },
  {
   "cell_type": "code",
   "execution_count": 3,
   "metadata": {},
   "outputs": [
    {
     "name": "stdout",
     "output_type": "stream",
     "text": [
      "_________________________________________________________________\n",
      "Layer (type)                 Output Shape              Param #   \n",
      "=================================================================\n",
      "dense_1 (Dense)              (None, 9)                 846       \n",
      "_________________________________________________________________\n",
      "activation_1 (Activation)    (None, 9)                 0         \n",
      "=================================================================\n",
      "Total params: 846\n",
      "Trainable params: 846\n",
      "Non-trainable params: 0\n",
      "_________________________________________________________________\n"
     ]
    }
   ],
   "source": [
    " #avoid overfitting - want to split data into training + test sets\n",
    "\n",
    "#keras callbacks - EarlyStopping; ModelCheckpoint\n",
    "model.summary()"
   ]
  },
  {
   "cell_type": "code",
   "execution_count": 4,
   "metadata": {
    "collapsed": true
   },
   "outputs": [],
   "source": [
    "from sklearn.model_selection import train_test_split\n",
    "from keras.callbacks import EarlyStopping, ModelCheckpoint\n",
    "\n",
    "#keras callback - functions applied at stages of training\n",
    "#serves to have idea of internal states and statistics of model\n",
    "#during training\n",
    "\n",
    "#earlystopping --> stop training when a monitored quantity \n",
    "#has stopped improving\n",
    "\n",
    "#ModelCheckpoint --> save model after every epoch"
   ]
  },
  {
   "cell_type": "code",
   "execution_count": 5,
   "metadata": {},
   "outputs": [
    {
     "name": "stdout",
     "output_type": "stream",
     "text": [
      "Train on 52596 samples, validate on 9282 samples\n",
      "Epoch 1/20\n",
      "52596/52596 [==============================] - 0s - loss: 0.6633 - val_loss: 0.6573\n",
      "Epoch 2/20\n",
      "52596/52596 [==============================] - 0s - loss: 0.6624 - val_loss: 0.6573\n",
      "Epoch 3/20\n",
      "52596/52596 [==============================] - 1s - loss: 0.6617 - val_loss: 0.6574\n",
      "Epoch 4/20\n",
      "52596/52596 [==============================] - 0s - loss: 0.6611 - val_loss: 0.6573\n",
      "Epoch 5/20\n",
      "52596/52596 [==============================] - 0s - loss: 0.6605 - val_loss: 0.6571\n",
      "Epoch 6/20\n",
      "52596/52596 [==============================] - 0s - loss: 0.6600 - val_loss: 0.6572\n",
      "Epoch 7/20\n",
      "52596/52596 [==============================] - 1s - loss: 0.6594 - val_loss: 0.6569\n",
      "Epoch 8/20\n",
      "52596/52596 [==============================] - 1s - loss: 0.6589 - val_loss: 0.6568\n",
      "Epoch 9/20\n",
      "52596/52596 [==============================] - 1s - loss: 0.6584 - val_loss: 0.6565\n",
      "Epoch 10/20\n",
      "52596/52596 [==============================] - 1s - loss: 0.6579 - val_loss: 0.6568\n",
      "Epoch 11/20\n",
      "52596/52596 [==============================] - 1s - loss: 0.6574 - val_loss: 0.6560\n",
      "Epoch 12/20\n",
      "52596/52596 [==============================] - 1s - loss: 0.6570 - val_loss: 0.6559\n",
      "Epoch 13/20\n",
      "52596/52596 [==============================] - 0s - loss: 0.6565 - val_loss: 0.6560\n",
      "Epoch 14/20\n",
      "52596/52596 [==============================] - 0s - loss: 0.6561 - val_loss: 0.6559\n",
      "Epoch 15/20\n",
      "52596/52596 [==============================] - 0s - loss: 0.6556 - val_loss: 0.6555\n",
      "Epoch 16/20\n",
      "52596/52596 [==============================] - 0s - loss: 0.6553 - val_loss: 0.6551\n",
      "Epoch 17/20\n",
      "52596/52596 [==============================] - 0s - loss: 0.6549 - val_loss: 0.6548\n",
      "Epoch 18/20\n",
      "52596/52596 [==============================] - 0s - loss: 0.6545 - val_loss: 0.6547\n",
      "Epoch 19/20\n",
      "52596/52596 [==============================] - 0s - loss: 0.6541 - val_loss: 0.6546\n",
      "Epoch 20/20\n",
      "52596/52596 [==============================] - 0s - loss: 0.6538 - val_loss: 0.6543\n"
     ]
    },
    {
     "data": {
      "text/plain": [
       "<keras.callbacks.History at 0x10dda39d0>"
      ]
     },
     "execution_count": 5,
     "metadata": {},
     "output_type": "execute_result"
    }
   ],
   "source": [
    "X_train, X_val, Y_train, Y_val = train_test_split(X_train, Y_train, test_size=0.15, random_state=42)\n",
    "#train_test_split --> split arrays or matrices into random train and test subsets\n",
    "\n",
    "fBestModel = 'best_model.h5'\n",
    "early_stop = EarlyStopping(monitor='val_loss', patience=4, verbose=1)\n",
    "#patience = number of epochs with no improvement after which traiing stopped\n",
    "\n",
    "best_model = ModelCheckpoint(fBestModel, verbose = 0, save_best_only=True)\n",
    "#fBestModel - filepath\n",
    "#save_best_only --> the latest best model according o th equantity monitored \n",
    "#will not be overwritten\n",
    "\n",
    "model.fit(X_train, Y_train, validation_data=(X_val, Y_val), epochs=20,\n",
    "         batch_size=128, verbose=True, callbacks=[best_model, early_stop])\n",
    "#fit - trains the model\n"
   ]
  },
  {
   "cell_type": "code",
   "execution_count": 13,
   "metadata": {},
   "outputs": [
    {
     "name": "stdout",
     "output_type": "stream",
     "text": [
      "_________________________________________________________________\n",
      "Layer (type)                 Output Shape              Param #   \n",
      "=================================================================\n",
      "dense_9 (Dense)              (None, 100)               9400      \n",
      "_________________________________________________________________\n",
      "dense_10 (Dense)             (None, 100)               10100     \n",
      "_________________________________________________________________\n",
      "dense_11 (Dense)             (None, 9)                 909       \n",
      "_________________________________________________________________\n",
      "activation_5 (Activation)    (None, 9)                 0         \n",
      "=================================================================\n",
      "Total params: 20,409\n",
      "Trainable params: 20,409\n",
      "Non-trainable params: 0\n",
      "_________________________________________________________________\n"
     ]
    }
   ],
   "source": [
    "#building a multilayer perceptron and fully connected\n",
    "\n",
    "model = Sequential()\n",
    "model.add(Dense(100, input_shape=(dims,)))\n",
    "model.add(Dense(nb_classes))\n",
    "model.add(Activation('softmax'))\n",
    "model.compile(optimizer='sgd', loss='categorical_crossentropy')\n",
    "model.summary()"
   ]
  },
  {
   "cell_type": "code",
   "execution_count": 14,
   "metadata": {},
   "outputs": [
    {
     "name": "stdout",
     "output_type": "stream",
     "text": [
      "Train on 52596 samples, validate on 9282 samples\n",
      "Epoch 1/20\n",
      "52596/52596 [==============================] - 1s - loss: 1.0696 - val_loss: 0.8126\n",
      "Epoch 2/20\n",
      "52596/52596 [==============================] - 1s - loss: 0.7672 - val_loss: 0.7393\n",
      "Epoch 3/20\n",
      "52596/52596 [==============================] - 1s - loss: 0.7204 - val_loss: 0.7090\n",
      "Epoch 4/20\n",
      "52596/52596 [==============================] - 1s - loss: 0.6979 - val_loss: 0.6914\n",
      "Epoch 5/20\n",
      "52596/52596 [==============================] - 1s - loss: 0.6840 - val_loss: 0.6793\n",
      "Epoch 6/20\n",
      "52596/52596 [==============================] - 1s - loss: 0.6745 - val_loss: 0.6706\n",
      "Epoch 7/20\n",
      "52596/52596 [==============================] - 1s - loss: 0.6678 - val_loss: 0.6663\n",
      "Epoch 8/20\n",
      "52596/52596 [==============================] - 1s - loss: 0.6630 - val_loss: 0.6613\n",
      "Epoch 9/20\n",
      "52596/52596 [==============================] - 1s - loss: 0.6591 - val_loss: 0.6573\n",
      "Epoch 10/20\n",
      "52596/52596 [==============================] - 1s - loss: 0.6558 - val_loss: 0.6560\n",
      "Epoch 11/20\n",
      "52596/52596 [==============================] - 1s - loss: 0.6530 - val_loss: 0.6524\n",
      "Epoch 12/20\n",
      "52596/52596 [==============================] - 1s - loss: 0.6510 - val_loss: 0.6509\n",
      "Epoch 13/20\n",
      "52596/52596 [==============================] - 1s - loss: 0.6492 - val_loss: 0.6478\n",
      "Epoch 14/20\n",
      "52596/52596 [==============================] - 1s - loss: 0.6473 - val_loss: 0.6473\n",
      "Epoch 15/20\n",
      "52596/52596 [==============================] - 1s - loss: 0.6460 - val_loss: 0.6456\n",
      "Epoch 16/20\n",
      "52596/52596 [==============================] - 1s - loss: 0.6447 - val_loss: 0.6444\n",
      "Epoch 17/20\n",
      "52596/52596 [==============================] - 1s - loss: 0.6436 - val_loss: 0.6441\n",
      "Epoch 18/20\n",
      "52596/52596 [==============================] - 1s - loss: 0.6428 - val_loss: 0.6428\n",
      "Epoch 19/20\n",
      "52596/52596 [==============================] - 1s - loss: 0.6420 - val_loss: 0.6423\n",
      "Epoch 20/20\n",
      "52596/52596 [==============================] - 1s - loss: 0.6410 - val_loss: 0.6416\n"
     ]
    },
    {
     "data": {
      "text/plain": [
       "<keras.callbacks.History at 0x12306ac10>"
      ]
     },
     "execution_count": 14,
     "metadata": {},
     "output_type": "execute_result"
    }
   ],
   "source": [
    "model.fit(X_train, Y_train, validation_data=(X_val, Y_val), epochs=20,\n",
    "         batch_size=128, verbose=True)"
   ]
  },
  {
   "cell_type": "code",
   "execution_count": null,
   "metadata": {},
   "outputs": [],
   "source": []
  },
  {
   "cell_type": "code",
   "execution_count": null,
   "metadata": {},
   "outputs": [],
   "source": []
  },
  {
   "cell_type": "code",
   "execution_count": null,
   "metadata": {},
   "outputs": [],
   "source": []
  },
  {
   "cell_type": "code",
   "execution_count": null,
   "metadata": {
    "collapsed": true
   },
   "outputs": [],
   "source": []
  },
  {
   "cell_type": "code",
   "execution_count": null,
   "metadata": {},
   "outputs": [],
   "source": []
  },
  {
   "cell_type": "code",
   "execution_count": null,
   "metadata": {},
   "outputs": [],
   "source": []
  },
  {
   "cell_type": "code",
   "execution_count": null,
   "metadata": {
    "collapsed": true
   },
   "outputs": [],
   "source": []
  }
 ],
 "metadata": {
  "kernelspec": {
   "display_name": "tensorflow",
   "language": "python",
   "name": "tensorflow"
  },
  "language_info": {
   "codemirror_mode": {
    "name": "ipython",
    "version": 2
   },
   "file_extension": ".py",
   "mimetype": "text/x-python",
   "name": "python",
   "nbconvert_exporter": "python",
   "pygments_lexer": "ipython2",
   "version": "2.7.10"
  }
 },
 "nbformat": 4,
 "nbformat_minor": 2
}
